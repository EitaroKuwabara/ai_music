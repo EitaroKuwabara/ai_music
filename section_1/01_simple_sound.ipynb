{
  "nbformat": 4,
  "nbformat_minor": 0,
  "metadata": {
    "colab": {
      "name": "01_simple_sound.ipynb",
      "provenance": [],
      "collapsed_sections": [],
      "authorship_tag": "ABX9TyOlijlueJXRmCZmtL44b7MD",
      "include_colab_link": true
    },
    "kernelspec": {
      "name": "python3",
      "display_name": "Python 3"
    },
    "language_info": {
      "name": "python"
    }
  },
  "cells": [
    {
      "cell_type": "markdown",
      "metadata": {
        "id": "view-in-github",
        "colab_type": "text"
      },
      "source": [
        "<a href=\"https://colab.research.google.com/github/yukinaga/ai_music/blob/main/section_1/01_simple_sound.ipynb\" target=\"_parent\"><img src=\"https://colab.research.google.com/assets/colab-badge.svg\" alt=\"Open In Colab\"/></a>"
      ]
    },
    {
      "cell_type": "markdown",
      "metadata": {
        "id": "dPkdg9jTjkTd"
      },
      "source": [
        "# Magetaで音を鳴らそう！\n",
        "まずは、Magentaを使ってシンプルな音を鳴らすところから始めましょう。"
      ]
    },
    {
      "cell_type": "markdown",
      "metadata": {
        "id": "oPKARfZNZ_EA"
      },
      "source": [
        "## ライブラリのインストール\n",
        "Magentaと共に、音楽生成用のライブラリpyFluidSynth、MIDIデータを処理するためのpretty_midiなどをインストールします。"
      ]
    },
    {
      "cell_type": "code",
      "metadata": {
        "id": "PRTOCXhK9YAM"
      },
      "source": [
        "!apt-get update -qq && apt-get install -qq libfluidsynth1 fluid-soundfont-gm build-essential libasound2-dev libjack-dev\n",
        "!pip install -qU pyfluidsynth pretty_midi\n",
        "!pip install -qU magenta"
      ],
      "execution_count": null,
      "outputs": []
    },
    {
      "cell_type": "markdown",
      "metadata": {
        "id": "oLSgiA6Uktpm"
      },
      "source": [
        "## NoteSequencesで音を鳴らす\n",
        "\n",
        "`NoteSequences`はMagentaで中心的な役割を果たします。  \n",
        "様々な音程、楽器の一連の音声をまとめることができます。\n",
        "\n",
        "以下は、「きらきら星」を再生するコードです。"
      ]
    },
    {
      "cell_type": "code",
      "metadata": {
        "id": "71dgCmmBli-s"
      },
      "source": [
        "import note_seq\n",
        "import magenta\n",
        "from note_seq.protobuf import music_pb2\n",
        "\n",
        "kira2 = music_pb2.NoteSequence()\n",
        "\n",
        "# NoteSequenceにnoteを追加\n",
        "kira2.notes.add(pitch=60, start_time=0.0, end_time=0.4, velocity=80)\n",
        "kira2.notes.add(pitch=60, start_time=0.4, end_time=0.8, velocity=80)\n",
        "kira2.notes.add(pitch=67, start_time=0.8, end_time=1.2, velocity=80)\n",
        "kira2.notes.add(pitch=67, start_time=1.2, end_time=1.6, velocity=80)\n",
        "kira2.notes.add(pitch=69, start_time=1.6, end_time=2.0, velocity=80)\n",
        "kira2.notes.add(pitch=69, start_time=2.0, end_time=2.4, velocity=80)\n",
        "kira2.notes.add(pitch=67, start_time=2.4, end_time=3.2, velocity=80)\n",
        "kira2.notes.add(pitch=65, start_time=3.2, end_time=3.6, velocity=80)\n",
        "kira2.notes.add(pitch=65, start_time=3.6, end_time=4.0, velocity=80)\n",
        "kira2.notes.add(pitch=64, start_time=4.0, end_time=4.4, velocity=80)\n",
        "kira2.notes.add(pitch=64, start_time=4.4, end_time=4.8, velocity=80)\n",
        "kira2.notes.add(pitch=62, start_time=4.8, end_time=5.2, velocity=80)\n",
        "kira2.notes.add(pitch=62, start_time=5.2, end_time=5.6, velocity=80)\n",
        "kira2.notes.add(pitch=60, start_time=5.6, end_time=6.4, velocity=80) \n",
        "\n",
        "note_seq.plot_sequence(kira2)  # NoteSequenceの可視化\n",
        "note_seq.play_sequence(kira2, synth=note_seq.fluidsynth)  # NoteSequenceの再生"
      ],
      "execution_count": null,
      "outputs": []
    },
    {
      "cell_type": "markdown",
      "metadata": {
        "id": "QhtRBNNf05CA"
      },
      "source": [
        "## MIDIファイルの保存とダウンロード\n",
        "`NoteSequence`をMIDIファイルに保存してダウンロードします。\n"
      ]
    },
    {
      "cell_type": "code",
      "metadata": {
        "id": "EcmmAToP4WE3"
      },
      "source": [
        "from google.colab import files\n",
        "\n",
        "note_seq.sequence_proto_to_midi_file(kira2, \"kira2.mid\")\n",
        "files.download(\"kira2.mid\")"
      ],
      "execution_count": null,
      "outputs": []
    }
  ]
}